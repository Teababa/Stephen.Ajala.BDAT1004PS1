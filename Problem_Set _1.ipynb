{
 "cells": [
  {
   "cell_type": "markdown",
   "id": "992fa30a",
   "metadata": {},
   "source": [
    "#### Problem Set 1\n",
    "What data type is each of the following? 5 5.0 5 > 1 '5' 5 * 2 '5' * 2 '5' + '2' 5 / 2 5 % 2 {5, 2, 1} 5 == 3 Pi (the number)"
   ]
  },
  {
   "cell_type": "code",
   "execution_count": 4,
   "id": "7ee8e5b2",
   "metadata": {},
   "outputs": [],
   "source": [
    "int number1 = 5;            // Integer\n",
    "double number2a = 5.0;         // Double\n",
    "bool greater3a = 5 > 1;  // Boolean\n",
    "string string4a = \"5\";         // String \n",
    "int number1b = 5 * 2;       // Integer \n",
    "string string4b = \"5\" * 2;     // String \n",
    "string string4c = \"5\" + \"2\";   // String\n",
    "double number2b = 5 / 2;    // Double\n",
    "int number1c = 5 % 2;     // Integer\n",
    "int[] array = {5, 2, 1};   // Integer array \n",
    "bool comparison1a = 5 == 3; // Boolean \n",
    "double pi1 = Math.pi;       // Double"
   ]
  },
  {
   "cell_type": "markdown",
   "id": "98bc704c",
   "metadata": {},
   "source": [
    "#### Problem Set 2\n",
    "Write (and evaluate) C# expressions that answer these questions:\n",
    "a. How many letters are there in 'Supercalifragilisticexpialidocious'?\n",
    "b. Does 'Supercalifragilisticexpialidocious' contain 'ice' as a substring?\n",
    "c. Which of the following words is the longest: \n",
    "Supercalifragilisticexpialidocious, Honorificabilitudinitatibus, or \n",
    "Bababadalgharaghtakamminarronnkonn?\n",
    "d. Which composer comes first in the dictionary: 'Berlioz', 'Borodin', 'Brian', \n",
    "'Bartok', 'Bellini', 'Buxtehude', 'Bernstein'. Which one comes last?\n",
    "\n",
    "Ref: https://stackoverflow.com/questions/521298/when-should-i-use-a-struct-rather-than-a-class-in-c"
   ]
  },
  {
   "cell_type": "markdown",
   "id": "1c345916",
   "metadata": {},
   "source": [
    "#### a. How many letters are there in 'Supercalifragilisticexpialidocious'?"
   ]
  },
  {
   "cell_type": "code",
   "execution_count": null,
   "id": "8ca72652",
   "metadata": {},
   "outputs": [],
   "source": [
    "using System;\n",
    "\n",
    "class Program\n",
    "{\n",
    "    static void Main()\n",
    "    {\n",
    "        string letter = \"Supercalifragilisticexpialidocious\";\n",
    "        int numberOfLetter = letter.Length;\n",
    "        Console.WriteLine(\"The number of letters in the word is: \" + numberOfLetter);\n",
    "    }\n",
    "}\n"
   ]
  },
  {
   "cell_type": "markdown",
   "id": "fa1f8d7a",
   "metadata": {},
   "source": [
    "#### b. Does 'Supercalifragilisticexpialidocious' contain 'ice' as a substring?"
   ]
  },
  {
   "cell_type": "code",
   "execution_count": null,
   "id": "3588366b",
   "metadata": {},
   "outputs": [],
   "source": [
    "using System;\n",
    "\n",
    "class Program\n",
    "{\n",
    "    static void Main()\n",
    "    {\n",
    "        string letter = \"Supercalifragilisticexpialidocious\";\n",
    "        string substringCheck = \"ice\";\n",
    "        \n",
    "        bool containsSubstring = word.Contains(substringCheck);\n",
    "        \n",
    "        if (containsSubstring)\n",
    "        {\n",
    "            Console.WriteLine(\"The word contains 'ice' as a substring.\");\n",
    "        }\n",
    "        else\n",
    "        {\n",
    "            Console.WriteLine(\"The word does not contain 'ice' as a substring.\");\n",
    "        }\n",
    "    }\n",
    "}\n"
   ]
  },
  {
   "cell_type": "markdown",
   "id": "3de99450",
   "metadata": {},
   "source": [
    "#### c. Which of the following words is the longest: \n",
    "##### Supercalifragilisticexpialidocious, Honorificabilitudinitatibus, or Bababadalgharaghtakamminarronnkonn?"
   ]
  },
  {
   "cell_type": "code",
   "execution_count": null,
   "id": "94250a3c",
   "metadata": {},
   "outputs": [],
   "source": [
    "using System;\n",
    "\n",
    "class Program\n",
    "{\n",
    "    static void Main()\n",
    "    {\n",
    "        string word1 = \"Supercalifragilisticexpialidocious\";\n",
    "        string word2 = \"Honorificabilitudinitatibus\";\n",
    "        string word3 = \"Bababadalgharaghtakamminarronnkonn\";\n",
    "\n",
    "        string longestWord = FindLongestWord(word1, word2, word3);\n",
    "\n",
    "        Console.WriteLine(\"The longest word is: \" + longestWord);\n",
    "    }\n",
    "\n",
    "    static string FindLongestWord(string word1, string word2, string word3)\n",
    "    {\n",
    "        if (word1.Length >= word2.Length && word1.Length >= word3.Length)\n",
    "        {\n",
    "            return word1;\n",
    "        }\n",
    "        else if (word2.Length >= word1.Length && word2.Length >= word3.Length)\n",
    "        {\n",
    "            return word2;\n",
    "        }\n",
    "        else\n",
    "        {\n",
    "            return word3;\n",
    "        }\n",
    "    }\n",
    "}\n"
   ]
  },
  {
   "cell_type": "markdown",
   "id": "3a41c2e6",
   "metadata": {},
   "source": [
    "#### d. Which composer comes first in the dictionary: 'Berlioz', 'Borodin', 'Brian', 'Bartok', 'Bellini', 'Buxtehude', 'Bernstein'. Which one comes last?"
   ]
  },
  {
   "cell_type": "code",
   "execution_count": null,
   "id": "ce8850c2",
   "metadata": {},
   "outputs": [],
   "source": [
    "using System;\n",
    "\n",
    "class Program\n",
    "{\n",
    "    static void Main()\n",
    "    {\n",
    "        string[] composers = { \"Berlioz\", \"Borodin\", \"Brian\", \"Bartok\", \"Bellini\", \"Buxtehude\", \"Bernstein\" };\n",
    "\n",
    "        Array.Sort(composers);\n",
    "\n",
    "        string firstComposer = composers[0];\n",
    "        string lastComposer = composers[composers.Length - 1];\n",
    "\n",
    "        Console.WriteLine(\"First composer in the dictionary: \" + firstComposer);\n",
    "    }\n",
    "}\n"
   ]
  },
  {
   "cell_type": "markdown",
   "id": "fa10f13d",
   "metadata": {},
   "source": [
    "#### Question 3 C#\n",
    "Implement function triangleArea(a,b,c) that takes as input the lengths of the 3 sides of a triangle and returns the area of the triangle. By Heron's formula, the area of a triangle with side lengths a, b, and c is s(s − a)(s −b)(s −c), where s = (a + b + c)/2\n",
    "\n",
    "Ref: https://stackoverflow.com/questions/521298/when-should-i-use-a-struct-rather-than-a-class-in-c"
   ]
  },
  {
   "cell_type": "code",
   "execution_count": null,
   "id": "5654892e",
   "metadata": {},
   "outputs": [],
   "source": [
    "using System;\n",
    "\n",
    "class Program\n",
    "{\n",
    "\n",
    "    static double TriangleArea(double a, double b, double c)\n",
    "    {\n",
    "        double s = (a + b + c) / 2;\n",
    "        double area = Math.Sqrt(s * (s - a) * (s - b) * (s - c));\n",
    "        return area;\n",
    "    }\n",
    "}\n"
   ]
  },
  {
   "cell_type": "markdown",
   "id": "32518c4d",
   "metadata": {},
   "source": [
    "#### Question 4 C#\n",
    "Write a program in C# Sharp to separate odd and even integers in separate arrays. \n",
    "Go to the editor\n",
    "Test Data :\n",
    "Input the number of elements to be stored in the array :5 \n",
    "Input 5 elements in the array :\n",
    "element - 0 : 25\n",
    "element - 1 : 47\n",
    "element - 2 : 42\n",
    "element - 3 : 56\n",
    "element - 4 : 32 \n",
    "Expected Output:\n",
    "The Even elements are: \n",
    "42 56 32\n",
    "The Odd elements are : \n",
    "25 47"
   ]
  },
  {
   "cell_type": "code",
   "execution_count": null,
   "id": "312a7be9",
   "metadata": {},
   "outputs": [],
   "source": []
  },
  {
   "cell_type": "markdown",
   "id": "0031a6bb",
   "metadata": {},
   "source": [
    "#### Question 5 C#\n",
    "Write a function inside(x,y,x1,y1,x2,y2) that returns True or False \n",
    "dependingonwhetherthepoint(x,y)liesintherectanglewithlowerleft \n",
    "corner (x1,y1) and upper right corner (x2,y2).\n",
    ">>> inside(1,1,0,0,2,3)\n",
    "True\n",
    ">>> inside(-1,-1,0,0,2,3)\n",
    "False\n",
    "\n",
    "Ref: https://stackoverflow.com/questions/231767/what-does-the-yield-keyword-do-in-python/231855#231855"
   ]
  },
  {
   "cell_type": "code",
   "execution_count": 5,
   "id": "8facdc5c",
   "metadata": {},
   "outputs": [
    {
     "name": "stdout",
     "output_type": "stream",
     "text": [
      "True\n",
      "False\n"
     ]
    }
   ],
   "source": [
    "def inside(x, y, x1, y1, x2, y2):\n",
    "    return x1 <= x <= x2 and y1 <= y <= y2\n",
    "\n",
    "print(inside(1, 1, 0, 0, 2, 3)) \n",
    "print(inside(-1, -1, 0, 0, 2, 3))"
   ]
  },
  {
   "cell_type": "markdown",
   "id": "705f70a7",
   "metadata": {},
   "source": [
    "Use function inside()from part a. to write an expression that tests whether \n",
    "the point (1,1) lies in both of the following rectangles: one with lower left \n",
    "corner (0.3, 0.5) and upper right corner (1.1, 0.7) and the other with lower \n",
    "left corner (0.5, 0.2) and upper right corner (1.1, 2)"
   ]
  },
  {
   "cell_type": "code",
   "execution_count": 6,
   "id": "7e4c64f2",
   "metadata": {},
   "outputs": [
    {
     "name": "stdout",
     "output_type": "stream",
     "text": [
      "The point (1, 1) does not lie in both of the rectangles.\n"
     ]
    }
   ],
   "source": [
    "def inside(x, y, x1, y1, x2, y2):\n",
    "    return x1 <= x <= x2 and y1 <= y <= y2\n",
    "\n",
    "in_first_rectangle = inside(1, 1, 0.3, 0.5, 1.1, 0.7)\n",
    "\n",
    "in_second_rectangle = inside(1, 1, 0.5, 0.2, 1.1, 2)\n",
    "\n",
    "if in_first_rectangle and in_second_rectangle:\n",
    "    print(\"The point (1, 1) lies in both of the rectangles.\")\n",
    "else:\n",
    "    print(\"The point (1, 1) does not lie in both of the rectangles.\")"
   ]
  },
  {
   "cell_type": "markdown",
   "id": "08ad3e38",
   "metadata": {},
   "source": [
    "#### Question 6 Python\n",
    "You can turn a word into pig-Latin using the following two rules(simplified):\n",
    "• If the word starts with a consonant, move that letter to the end and append 'ay'. For example, 'happy' becomes 'appyhay' and 'pencil' becomes 'encilpay'.\n",
    "• If the word starts with a vowel, simply append 'way' to the end of the word.For example, 'enter' becomes 'enterway' and 'other' becomes 'otherway' . For our purposes, there are 5 vowels: a, e, i, o, u (so we count y as a consonant).\n",
    "Write a function pig() that takes a word (i.e., a string) as input and returns its pig\u0002Latin form. Your function should still work if the input word contains upper casecharacters. Your output should always be lower case however.\n",
    ">>> pig('happy')\n",
    "'appyhay'\n",
    ">>> pig('Enter')\n",
    "'enterway'\n",
    "\n",
    "Ref: https://stackoverflow.com/questions/231767/what-does-the-yield-keyword-do-in-python/231855#231855"
   ]
  },
  {
   "cell_type": "code",
   "execution_count": 7,
   "id": "b45bcf72",
   "metadata": {},
   "outputs": [
    {
     "name": "stdout",
     "output_type": "stream",
     "text": [
      "appyhay\n",
      "enterway\n"
     ]
    }
   ],
   "source": [
    "def pig(word):\n",
    "    vowels = \"aeiou\"\n",
    "    word = word.lower()\n",
    "    \n",
    "    if word[0] in vowels:\n",
    "        return word + \"way\"\n",
    "    else:\n",
    "        return word[1:] + word[0] + \"ay\"\n",
    "\n",
    "print(pig('happy'))  \n",
    "print(pig('Enter')) "
   ]
  },
  {
   "cell_type": "markdown",
   "id": "9d9e8c60",
   "metadata": {},
   "source": [
    "#### Question 7 Python\n",
    "File bloodtype1.txt records blood-types of patients (A, B, AB, O or OO) at a clinic. \n",
    "Write a function bldcount() that reads the file with name name and reports (i.e., \n",
    "prints) how many patients there are in each bloodtype.\n",
    "There is one patient of blood type B. \n",
    "There are 10 patients of blood type AB. \n",
    "There are 12 patients of blood type O. \n",
    "There are no patients of blood type OO.\n",
    "\n",
    "Ref: https://stackoverflow.com/questions/231767/what-does-the-yield-keyword-do-in-python/231855#231855"
   ]
  },
  {
   "cell_type": "code",
   "execution_count": 9,
   "id": "11037770",
   "metadata": {},
   "outputs": [
    {
     "name": "stdout",
     "output_type": "stream",
     "text": [
      "Empty DataFrame\n",
      "Columns: [AB AB B O A A AB O AB A O O A A A O O O AB O A A A A A AB AB A AB O AB O A O O O AB O AB AB AB A A O ]\n",
      "Index: []\n"
     ]
    }
   ],
   "source": [
    "import pandas as pd\n",
    "\n",
    "file = r'C:\\Users\\ajala\\Desktop\\BigData\\1004_Wed\\Assignment\\problem set1\\bloodtype1.txt'\n",
    "\n",
    "data = pd.read_csv(file)\n",
    "print(data)"
   ]
  },
  {
   "cell_type": "code",
   "execution_count": 10,
   "id": "f1e31c1f",
   "metadata": {},
   "outputs": [],
   "source": [
    "def bldcount(data):\n",
    "    bloodtypes = ['A', 'B', 'AB', 'O', 'OO']\n",
    "    counts = {bloodtype: data.count(bloodtype) for bloodtype in bloodtypes}\n",
    "    for blood_type, count in counts.items():\n",
    "        print(f'There are {count} patients of blood type {blood_type}')"
   ]
  },
  {
   "cell_type": "markdown",
   "id": "5ced69ba",
   "metadata": {},
   "source": [
    "#### Question 8 Python\n",
    "Write a function curconv() that takes as input:\n",
    "1. a currency represented using a string (e.g., 'JPY' for the Japanese Yen or \n",
    "'EUR' for the Euro)\n",
    "2. an amount\n",
    "and then converts and returns the amount in US dollars.\n",
    "\n",
    "Ref: https://stackoverflow.com/questions/231767/what-does-the-yield-keyword-do-in-python/231855#231855"
   ]
  },
  {
   "cell_type": "code",
   "execution_count": 11,
   "id": "dc9aa3c1",
   "metadata": {},
   "outputs": [
    {
     "name": "stdout",
     "output_type": "stream",
     "text": [
      "     AUD\\t1.0345157\\tAustralian Dollar\n",
      "0          CHF\\t1.0237414\\tSwiss Franc\n",
      "1         CNY\\t0.1550176\\tChinese Yuan\n",
      "2         DKK\\t0.1651442\\tDanish Krone\n",
      "3                 EUR\\t1.2296544\\tEuro\n",
      "4        GBP\\t1.5550989\\tBritish Pound\n",
      "5     HKD\\t0.1270207\\tHong Kong Dollar\n",
      "6         INR\\t0.0177643\\tIndian Rupee\n",
      "7        JPY\\t0.01241401\\tJapanese Yen\n",
      "8         MXN\\t0.0751848\\tMexican Peso\n",
      "9    MYR\\t0.3145411\\tMalaysian Ringgit\n",
      "10     NOK\\t0.1677063\\tNorwegian Krone\n",
      "11  NZD\\t0.8003591\\tNew Zealand Dollar\n",
      "12     PHP\\t0.0233234\\tPhilippine Peso\n",
      "13        SEK\\t0.148269\\tSwedish Krona\n",
      "14     SGD\\t0.788871\\tSingapore Dollar\n",
      "15           THB\\t0.0313789\\tThai Baht\n"
     ]
    }
   ],
   "source": [
    "import pandas as pd\n",
    "\n",
    "file = r'C:\\Users\\ajala\\Desktop\\BigData\\1004_Wed\\Assignment\\problem set1\\currencies.txt'\n",
    "\n",
    "data2 = pd.read_csv(file)\n",
    "print(data2)"
   ]
  },
  {
   "cell_type": "code",
   "execution_count": 13,
   "id": "947f5229",
   "metadata": {},
   "outputs": [],
   "source": [
    "def curconv(currencies, amount):\n",
    "    currency_rates = {\n",
    "        'AUD': 1.0345157,\n",
    "        'CHF': 1.0237414,\n",
    "        'CNY': 0.1550176,\n",
    "        'DKK': 0.1651442,\n",
    "        'EUR': 1.2296544,\n",
    "        'GBP': 1.5550989,\n",
    "        'HKD': 0.1270207,\n",
    "        'INR': 0.0177643,\n",
    "        'JPY': 0.01241401,\n",
    "        'MXN': 0.0751848,\n",
    "        'MYR': 0.3145411,\n",
    "        'NOK': 0.1677063,\n",
    "        'NZD': 0.8003591,\n",
    "        'PHP': 0.0233234,\n",
    "        'SEK': 0.148269,\n",
    "        'SGD': 0.788871,\n",
    "        'THB': 0.0313789\n",
    "    }\n",
    "\n",
    "    if currency in currency_rates:\n",
    "        usd_amount = amount * currency_rates[currencies]\n",
    "        return usd_amount\n",
    "    else:\n",
    "        return \"Invalid currency\"\n",
    "\n",
    "print(curconv('AUD', 100)) "
   ]
  },
  {
   "cell_type": "markdown",
   "id": "225c2764",
   "metadata": {},
   "source": [
    "#### Question 9 Python\n",
    "Each of the following will cause an exception (an error). Identify what type of exception each will cause.\n",
    "\n",
    "Trying to add incompatible variables, as in adding 6 + ‘a’\n",
    "\n",
    "Referring to the 12th item of a list that has only 10 \n",
    "items\n",
    "\n",
    "Using a value that is out ofrange for a function’s input, such as calling math.sqrt(-1.0)\n",
    "\n",
    "Using an undeclared variable, such as print(x) when x has not been defined\n",
    "\n",
    "Trying to open a file that does not exist, such as mistyping the file name or looking in the wrong directory"
   ]
  },
  {
   "cell_type": "markdown",
   "id": "dd6c4a87",
   "metadata": {},
   "source": [
    "Trying to add incompatible variables, as in adding 6 + 'a':\n",
    "Type of Exception: TypeError\n",
    "\n",
    "Referring to the 12th item of a list that has only 10 items:\n",
    "Type of Exception: IndexError\n",
    "\n",
    "Using a value that is out of range for a function’s input, such as calling math.sqrt(-1.0):\n",
    "Type of Exception: ValueError\n",
    "\n",
    "Using an undeclared variable, such as print(x) when x has not been defined:\n",
    "Type of Exception: NameError\n",
    "\n",
    "Trying to open a file that does not exist, such as mistyping the file name or looking in the wrong directory:\n",
    "Type of Exception: FileNotFoundError (or IOError in older Python versions)"
   ]
  },
  {
   "cell_type": "markdown",
   "id": "bb972903",
   "metadata": {},
   "source": [
    "#### Question 10 Python\n",
    "Encryption is the process of hiding the meaning of a text by substituting letters in the message with other letters, according to some system. If the process is successful, no one but the intended recipient can understand the encrypted message. Cryptanalysis refers to attempts to undo the encryption, even if some details of the encryption are \n",
    "unknown (for example, if an encrypted message has been intercepted). The first step of cryptanalysis is often to build up a table of letter frequencies in the encrypted text. \n",
    "Assume that the string letters is already defined as 'abcdefghijklmnopqrstuvwxyz'. Write a function called frequencies() \n",
    "that takes a string as its only parameter, and returns a list of integers, showing the number of times each character appears in the text. Your function may ignore any characters that are not in letters.\n",
    ">>> frequencies('The quick red fox got bored and went home.') \n",
    "[1, 1, 1, 3, 5, 1, 1, 2, 1, 0, 1, 0, 1, 2, 4, 0, 1, 2, 0, 2,\n",
    "1, 0, 1, 1, 0, 0]\n",
    ">>> frequencies('apple')\n",
    "\n",
    "Ref: https://stackoverflow.com/questions/231767/what-does-the-yield-keyword-do-in-python/231855#231855"
   ]
  },
  {
   "cell_type": "code",
   "execution_count": 14,
   "id": "a418c3c7",
   "metadata": {},
   "outputs": [
    {
     "name": "stdout",
     "output_type": "stream",
     "text": [
      "[2, 0, 1, 2, 5, 0, 1, 2, 2, 0, 0, 3, 1, 2, 2, 1, 0, 2, 4, 2, 0, 0, 1, 0, 1, 0]\n"
     ]
    }
   ],
   "source": [
    "def frequencies(text):\n",
    "    letters = 'abcdefghijklmnopqrstuvwxyz'\n",
    "    letter_counts = [text.lower().count(letter) for letter in letters]\n",
    "    return letter_counts\n",
    "\n",
    "encrypted_text = \"This message is encrypted.\"\n",
    "frequency_list = frequencies(encrypted_text)\n",
    "\n",
    "print(frequency_list)"
   ]
  },
  {
   "cell_type": "code",
   "execution_count": null,
   "id": "1f04307d",
   "metadata": {},
   "outputs": [],
   "source": []
  }
 ],
 "metadata": {
  "kernelspec": {
   "display_name": "Python 3 (ipykernel)",
   "language": "python",
   "name": "python3"
  },
  "language_info": {
   "codemirror_mode": {
    "name": "ipython",
    "version": 3
   },
   "file_extension": ".py",
   "mimetype": "text/x-python",
   "name": "python",
   "nbconvert_exporter": "python",
   "pygments_lexer": "ipython3",
   "version": "3.11.4"
  }
 },
 "nbformat": 4,
 "nbformat_minor": 5
}
